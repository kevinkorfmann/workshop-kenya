{
 "cells": [
  {
   "cell_type": "code",
   "execution_count": null,
   "metadata": {},
   "outputs": [],
   "source": [
    "#| default_exp session_2"
   ]
  },
  {
   "cell_type": "markdown",
   "metadata": {},
   "source": [
    "# 2. Session - Introduction to Deep Learning and Dataset Generation"
   ]
  }
 ],
 "metadata": {
  "kernelspec": {
   "display_name": "workshop-kenya",
   "language": "python",
   "name": "python3"
  },
  "language_info": {
   "name": "python",
   "version": "3.10.9"
  },
  "vscode": {
   "interpreter": {
    "hash": "8433775919f4a54bf8556c000e98b1be827f18b232c20adcfa994fd7cb0f93e9"
   }
  }
 },
 "nbformat": 4,
 "nbformat_minor": 2
}
