{
 "cells": [
  {
   "attachments": {},
   "cell_type": "markdown",
   "metadata": {},
   "source": [
    "# Summer School Epidemiology 2023\n",
    "\n",
    "\n",
    "> Workshop part of Prof. Aurelien Tellier and Kevin Korfmann"
   ]
  },
  {
   "attachments": {},
   "cell_type": "markdown",
   "metadata": {},
   "source": [
    "The aim of this website is to provide a resource of methods used in the SSE2023 for the workshop part of Prof. Aurelien Tellier and Kevin Korfmann. We will provide an overview of three different sessions. A brief outline of the subjects related to research of the Professorship of population genetics will be explored through the following topics:\n",
    "\n",
    "1. Session - MalariaGen\n",
    "2. Session - Introduction to Deep Learning and Dataset Generation\n",
    "3. Session - Training and Inference of Coalescent Models"
   ]
  }
 ],
 "metadata": {
  "kernelspec": {
   "display_name": "workshop-kenya",
   "language": "python",
   "name": "python3"
  },
  "language_info": {
   "name": "python",
   "version": "3.10.9"
  },
  "vscode": {
   "interpreter": {
    "hash": "8433775919f4a54bf8556c000e98b1be827f18b232c20adcfa994fd7cb0f93e9"
   }
  }
 },
 "nbformat": 4,
 "nbformat_minor": 4
}
