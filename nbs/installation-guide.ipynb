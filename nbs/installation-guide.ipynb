{
 "cells": [
  {
   "cell_type": "code",
   "execution_count": null,
   "metadata": {},
   "outputs": [],
   "source": [
    "#| default_exp installation_guide"
   ]
  },
  {
   "cell_type": "markdown",
   "metadata": {},
   "source": [
    "# Installation guide"
   ]
  },
  {
   "attachments": {},
   "cell_type": "markdown",
   "metadata": {},
   "source": [
    "This part of summer school uses the Python programming language throughout the session. In case you are not familiar with Python it will still be possible to run code or get familiar with general concepts. But using python is necessary because modern deep learning libraries like PyTorch are the de facto standard, which becomes especially relevant for workshop session 2 and 3."
   ]
  },
  {
   "cell_type": "markdown",
   "metadata": {},
   "source": [
    "## Session 1"
   ]
  },
  {
   "attachments": {},
   "cell_type": "markdown",
   "metadata": {},
   "source": [
    "Please make sure to have a working installation of miniconda, which includes an up-tp-date version of python. You can the version for your operating system of choice from: https://docs.conda.io/en/latest/miniconda.html"
   ]
  },
  {
   "attachments": {},
   "cell_type": "markdown",
   "metadata": {},
   "source": [
    "If you have miniconda installed, please setup a conda environment. The following setup instructions are valid for MacOS or Linux, in case of Windows look for the Anaconda Prompt Terminal, use Windows-Subsystem for Linux (WSL), or checkout the https://docs.conda.io/en/latest/index.html webiste for further help. "
   ]
  },
  {
   "attachments": {},
   "cell_type": "markdown",
   "metadata": {},
   "source": [
    "After installing miniconda you and have opened a Terminal we create the environment as follows:\n",
    "\n",
    "> conda create -n workshop-kenya   \n",
    "> conda activate workshop-kenya    "
   ]
  },
  {
   "attachments": {},
   "cell_type": "markdown",
   "metadata": {},
   "source": [
    "Now that the environment is active you can install all the necessary python packages. You don't need to install everything at once but can do so through-out the workshop. Please make sure to always activate the conda environemnt before installing anything python-related with pip, conda or mamba.\n",
    "\n",
    "To start with some installions:\n",
    "\n",
    "> pip install jupyterlab numpy pandas matplotlib seaborn msprime tsinfer tsdate scikit-allel\n",
    "\n",
    "If you have finished working you may simply close the terminal or type conda deactivate."
   ]
  },
  {
   "attachments": {},
   "cell_type": "markdown",
   "metadata": {},
   "source": [
    "## Session 2"
   ]
  },
  {
   "attachments": {},
   "cell_type": "markdown",
   "metadata": {},
   "source": [
    "Some installations are a bit more complicated like the installtions for the deep learning library and graph neural network extension:"
   ]
  },
  {
   "attachments": {},
   "cell_type": "markdown",
   "metadata": {},
   "source": [
    "Let's first install mamba following the websites instructions:\n",
    "https://mamba.readthedocs.io/en/latest/installation.html\n",
    "\n",
    "> conda install mamba -n base -c conda-forge   \n",
    "\n",
    "Installing mamba is not strictly necessary since conda is already installed but it will make the following installations faster. You may use \"conda\" and \"mamba\" interchangingly. "
   ]
  },
  {
   "cell_type": "markdown",
   "metadata": {},
   "source": [
    "Next go to the Pytorch website (https://pytorch.org/) and copy the relevant installation command for you:\n",
    "\n",
    "For example:\n",
    "> mamba install pytorch torchvision pytorch-cuda=11.6 -c pytorch -c nvidia"
   ]
  },
  {
   "cell_type": "markdown",
   "metadata": {},
   "source": [
    "## Session 3"
   ]
  },
  {
   "attachments": {},
   "cell_type": "markdown",
   "metadata": {},
   "source": [
    "Installation of Pytorch Geometric. Please go to the Pytorch Geometric website (https://pytorch-geometric.readthedocs.io/) and follow the installation instructions:\n",
    "\n",
    "For example:\n",
    "\n",
    "> conda install pyg -c pyg   "
   ]
  }
 ],
 "metadata": {
  "kernelspec": {
   "display_name": "workshop-kenya",
   "language": "python",
   "name": "python3"
  },
  "language_info": {
   "codemirror_mode": {
    "name": "ipython",
    "version": 3
   },
   "file_extension": ".py",
   "mimetype": "text/x-python",
   "name": "python",
   "nbconvert_exporter": "python",
   "pygments_lexer": "ipython3",
   "version": "3.10.9"
  },
  "orig_nbformat": 4,
  "vscode": {
   "interpreter": {
    "hash": "8433775919f4a54bf8556c000e98b1be827f18b232c20adcfa994fd7cb0f93e9"
   }
  }
 },
 "nbformat": 4,
 "nbformat_minor": 2
}
