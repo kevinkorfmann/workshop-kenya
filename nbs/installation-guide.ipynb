{
 "cells": [
  {
   "cell_type": "code",
   "execution_count": null,
   "metadata": {},
   "outputs": [],
   "source": [
    "#| default_exp installation_guide"
   ]
  },
  {
   "cell_type": "markdown",
   "metadata": {},
   "source": [
    "# Installation guide"
   ]
  },
  {
   "cell_type": "markdown",
   "metadata": {},
   "source": [
    "This part of the summer school uses the Python programming language throughout the sessions. In case you are not familiar with Python it will still be possible to run code or get familiar with general concepts. Using python is necessary because modern deep learning libraries like PyTorch are the de facto standard, which becomes relevant for workshop session 2 and 3."
   ]
  },
  {
   "cell_type": "markdown",
   "metadata": {},
   "source": [
    "## Session 1"
   ]
  },
  {
   "cell_type": "markdown",
   "metadata": {},
   "source": [
    "Please make sure to have a working installation of miniconda, which includes an up-tp-date version of python. You can the version for your operating system of choice from: https://docs.conda.io/en/latest/miniconda.html"
   ]
  },
  {
   "cell_type": "markdown",
   "metadata": {},
   "source": [
    "If you have miniconda installed, please setup a conda environment. The following setup instructions are valid for MacOS or Linux, in case of Windows look for the Anaconda Prompt Terminal, use Windows-Subsystem for Linux (WSL), or checkout the https://docs.conda.io/en/latest/index.html webiste for further help. "
   ]
  },
  {
   "cell_type": "markdown",
   "metadata": {},
   "source": [
    "After installing miniconda you and have opened a Terminal we create the environment as follows:\n",
    "\n",
    "> conda create -n workshop-kenya   \n",
    "> conda activate workshop-kenya    "
   ]
  },
  {
   "cell_type": "markdown",
   "metadata": {},
   "source": [
    "Now that the environment is active you can install all the necessary python packages. You don't need to install everything at once but can do so through-out the workshop. Please make sure to always activate the conda environemnt before installing anything python-related with pip, conda or mamba.\n",
    "\n",
    "To start with some installions:\n",
    "\n",
    "> pip install jupyterlab numpy pandas matplotlib seaborn msprime scikit-allel tsinfer numba tsdate\n",
    "\n",
    "If you have finished working you may simply close the terminal or type conda deactivate."
   ]
  },
  {
   "cell_type": "markdown",
   "metadata": {},
   "source": [
    "## Session 2"
   ]
  },
  {
   "cell_type": "markdown",
   "metadata": {},
   "source": [
    "Some installations are a bit more complicated like the installtions for the deep learning library and graph neural network extension:"
   ]
  },
  {
   "cell_type": "markdown",
   "metadata": {},
   "source": [
    "Let's first install mamba following the websites instructions:\n",
    "https://mamba.readthedocs.io/en/latest/installation.html\n",
    "\n",
    "> conda install mamba -n base -c conda-forge   \n",
    "\n",
    "Installing mamba is not strictly necessary since conda is already installed but it will make the following installations faster. You may use \"conda\" and \"mamba\" interchangingly. "
   ]
  },
  {
   "cell_type": "markdown",
   "metadata": {},
   "source": [
    "Next go to the Pytorch website (https://pytorch.org/) and copy the relevant installation command for you:\n",
    "\n",
    "For example:   \n",
    "> mamba install pytorch torchvision pytorch-cuda=11.6 -c pytorch -c nvidia"
   ]
  },
  {
   "cell_type": "markdown",
   "metadata": {},
   "source": [
    "## Session 3"
   ]
  },
  {
   "cell_type": "markdown",
   "metadata": {},
   "source": [
    "Installation of Pytorch Geometric. Please go to the Pytorch Geometric website (https://pytorch-geometric.readthedocs.io/) and follow the installation instructions:\n",
    "\n",
    "For example:\n",
    "\n",
    "> mamba install pyg -c pyg   "
   ]
  }
 ],
 "metadata": {
  "kernelspec": {
   "display_name": "python3",
   "language": "python",
   "name": "python3"
  }
 },
 "nbformat": 4,
 "nbformat_minor": 4
}
