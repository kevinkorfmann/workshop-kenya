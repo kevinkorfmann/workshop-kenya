{
 "cells": [
  {
   "cell_type": "code",
   "execution_count": 3,
   "id": "a63d6f15",
   "metadata": {},
   "outputs": [],
   "source": [
    "#| default_exp Introduction_to_Deep_Learning.ipynb"
   ]
  },
  {
   "cell_type": "markdown",
   "id": "4822a051-a684-491d-b350-151881b22df8",
   "metadata": {},
   "source": [
    "# Introduction to Deep Learning (DL)"
   ]
  },
  {
   "cell_type": "markdown",
   "id": "f183bcf8-3851-49df-ab04-584a5e03f4ec",
   "metadata": {},
   "source": [
    "This notebook is intented to give a brief overview over the field of DL."
   ]
  },
  {
   "cell_type": "markdown",
   "id": "1451af22-5daf-4b11-9142-c71676619fd7",
   "metadata": {},
   "source": [
    "## What is DL?"
   ]
  },
  {
   "cell_type": "markdown",
   "id": "d8324e14-3f15-45cc-a241-ef5d475bce30",
   "metadata": {},
   "source": [
    "<div>\n",
    "<img src=\"dl-repr.webp\" width=\"700\"/>\n",
    "</div>"
   ]
  },
  {
   "cell_type": "markdown",
   "id": "3640f602-2afe-4d4c-9c0f-2bf5a7a1d0dc",
   "metadata": {},
   "source": [
    "* A deep neural network is a neural network with many layers -> allowing it to learn hierarchical representations of data.\n",
    "* The output of each layer is a nonlinear transformation of the weighted sum of the inputs. \n",
    "* Mathematically, we can represent the output of a layer l with $n_l$ neurons as:\n",
    "\n",
    "    $h_l = g(W_l h_{l-1} + b_l)$\n",
    "\n",
    "    where $h_{l-1}$ is the output of the previous layer, $W_l$ is the weight matrix connecting the neurons of layer $l-1$ to layer $l$, $b_l$ is the bias vector for layer $l$, and $g$ is a nonlinear activation function. \n",
    "\n",
    "* The training process involves feeding the network a large amount of labeled data and adjusting the network's parameters to minimize a loss function that measures the difference between the predicted outputs and the true outputs. This is typically done using gradient-based optimization algorithms, such as stochastic gradient descent. Mathematically, we can express the loss function L as:\n",
    "\n",
    "    $L = 1/N \\sum_{i=1}^N L_i(y_i, f(x_i; \\theta))$\n",
    "\n",
    "    where N is the number of training samples, $x_i$ and $y_i$ are the input and output of the i-th sample, $f(x_i; \\theta)$ is the output of the neural network with parameters $\\theta$, and $L_i$ is a per-sample loss function, such as the mean squared error (MSE) or the cross-entropy loss."
   ]
  },
  {
   "cell_type": "markdown",
   "id": "0a970897-35d7-4968-9bb9-803d69b34ced",
   "metadata": {},
   "source": [
    "Backpropagation:    \n",
    "* Once the loss has been computed, the next step is to update the parameters of the model (i.e., the weights and biases) to reduce the loss on the training data.\n",
    "Backpropagation is an algorithm used to compute the gradients of the loss with respect to the model parameters.\n",
    "\n",
    "* By repeating the process of computing the loss and backpropagating the gradients, the neural network gradually learns to make more accurate predictions on the training data. The goal of training is to find the set of parameters that minimizes the loss on the training data while still generalizing well to new, unseen data."
   ]
  },
  {
   "cell_type": "markdown",
   "id": "c2d9ef7b-9191-42a4-a1a4-2cde7c69702b",
   "metadata": {},
   "source": [
    "## Brief historical overview"
   ]
  },
  {
   "cell_type": "markdown",
   "id": "2a5d64c8-b0c8-4db7-86c3-7dd4f10a5180",
   "metadata": {},
   "source": [
    "### 1940s 50s- From formulation to implementation"
   ]
  },
  {
   "cell_type": "markdown",
   "id": "98053027-48ad-484d-b483-0cca85b811e4",
   "metadata": {},
   "source": [
    "* DL history dates back 1943 to Warren McCulloch and Walter Pitts\n",
    "* Mathematical representation of neurons in the brain might work\n",
    "* Given the input x = [ x₁, x₂, x₃, …, xₙ ]ᵀ, the inhibitory input i and the threshold Θ, the output y is computed as follows:"
   ]
  },
  {
   "cell_type": "markdown",
   "id": "12aef49e-bb63-4aa0-b13f-d49f8b57e87e",
   "metadata": {},
   "source": [
    "<div>\n",
    "<img src=\"neuron.webp\" width=\"400\"/>\n",
    "</div>"
   ]
  },
  {
   "cell_type": "markdown",
   "id": "3f12d013-e07c-407d-9400-135e883a6f07",
   "metadata": {},
   "source": [
    "* Marvin Minsky and Dean Edmonds developed the first neural network computer, called the SNARC (The Stochastic Neural Analog Reinforcement Calculator); designed of tasks like desicion making with human feedback (i.e. navigating through a maze)"
   ]
  },
  {
   "cell_type": "markdown",
   "id": "c71b4acf-d163-4cf9-b6c7-c76efd7fafee",
   "metadata": {},
   "source": [
    "<div>\n",
    "<img src=\"snarc.webp\" width=\"400\"/>\n",
    "</div>\n"
   ]
  },
  {
   "cell_type": "markdown",
   "id": "8da79519-1879-4730-bd89-5dfa4680bb06",
   "metadata": {},
   "source": [
    "* Frank Rosenblatt developed the perceptron and simple optimization algorithm"
   ]
  },
  {
   "cell_type": "markdown",
   "id": "955f2ac2-41d7-47c9-99a6-06945d7ae836",
   "metadata": {},
   "source": [
    "<div>\n",
    "<img src=\"perceptron_schematic.jpg\" width=\"400\"/>\n",
    "</div>"
   ]
  },
  {
   "cell_type": "markdown",
   "id": "923ab552-a90a-4120-bfd2-ede67913f3ff",
   "metadata": {},
   "source": [
    "<div>\n",
    "<img src=\"perceptron.jpeg\" width=\"400\"/>\n",
    "</div>"
   ]
  },
  {
   "cell_type": "markdown",
   "id": "adf1ad73-d95e-4e6c-a1e9-e389479d06a0",
   "metadata": {},
   "source": [
    "![](rosenblatt.webp)"
   ]
  },
  {
   "cell_type": "markdown",
   "id": "971f0f93-007d-40af-a343-36a8b279e73e",
   "metadata": {},
   "source": [
    "#### Brief description of learning algorithm"
   ]
  },
  {
   "cell_type": "markdown",
   "id": "d6715163-daa4-465b-b43f-523498c70dcc",
   "metadata": {},
   "source": [
    "* Assume that the mᵗʰ example xₘ belongs to class yₘ=0 and that the perceptron correctly predicts ŷₘ =0. In this case, the weight correction is given by Δw = ( 0-0 ) xₘ, i.e. we do not change the weights. The same applies to bias.\n",
    "* Similarly, if the mᵗʰ example xₘ belongs to class yₘ=1 and the perceptron correctly predicts ŷₘ =1, then the weight correction is Δw = 0. The same applies again for the bias.\n",
    "* Assume now that the mᵗʰ example xₘ belongs to class yₘ=0 and that the perceptron wrongly predicts ŷₘ =1. In this case, the weight correction is given by Δw = ( 0–1 ) xₘ = –xₘ, while the bias is updated as b = b–1.\n",
    "* Finally, if the mᵗʰ example xₘ belongs to class yₘ=1 and the perceptron wrongly predicts ŷₘ =0, the weight correction is Δw = xₘ. The bias is also updated according to b = b+1"
   ]
  },
  {
   "cell_type": "markdown",
   "id": "4318ad41-e165-4315-b118-293cd8061f3e",
   "metadata": {},
   "source": [
    "(See also [Learning algorithm](https://towardsdatascience.com/rosenblatts-perceptron-the-very-first-neural-network-37a3ec09038a))"
   ]
  },
  {
   "cell_type": "markdown",
   "id": "4f02f465-f2fe-4dc8-a3c0-db103048bbd8",
   "metadata": {},
   "source": [
    "“Stories about the creation of machines having human qualities have long been a fascinating province in the realm of science fiction,” Rosenblatt wrote in 1958. “Yet we are about to witness the birth of such a machine – a machine capable of perceiving, recognizing and identifying its surroundings without any human training or control.”"
   ]
  },
  {
   "cell_type": "markdown",
   "id": "cbc039c0-116f-43c3-a111-6c14d1ea0b97",
   "metadata": {},
   "source": [
    "### 1960s - AI winter"
   ]
  },
  {
   "cell_type": "markdown",
   "id": "8916841a-c58d-431c-b627-e860775ff10a",
   "metadata": {},
   "source": [
    "* Due to limitations of early networks, different research directions in AI become more popular, e.g. Knowledge-Bases and Rule-based systems"
   ]
  },
  {
   "cell_type": "markdown",
   "id": "6b6ebdf2-570a-408d-aac5-9ec935657ca8",
   "metadata": {},
   "source": [
    "### 1970s - 1990s - Incremental Progress"
   ]
  },
  {
   "cell_type": "markdown",
   "id": "15cb3880-3a54-4262-a584-edb5ce49242a",
   "metadata": {},
   "source": [
    "* Computing power still limited but slow incremental progression\n",
    "* Developement of Backpropagation algorithm (Optimization algorithm)\n",
    "* Conceptualization of architecture like CNN, RNN, LSTM"
   ]
  },
  {
   "cell_type": "markdown",
   "id": "10d08a53-b3f7-4e66-a209-48396172545b",
   "metadata": {},
   "source": [
    "### 2000s - From the Vanishing Gradients to ImageNet"
   ]
  },
  {
   "cell_type": "markdown",
   "id": "89a2d6ea-2d69-41e8-a3b3-6ccb32892ad2",
   "metadata": {},
   "source": [
    "* The \"Vanishing Gradient Problem\" made it difficult to train models with many layers\n",
    "* First techniques were developed to address the issue, i.e. using activation functions\n",
    "* 2009: ImageNet competition"
   ]
  },
  {
   "cell_type": "markdown",
   "id": "6df6daa3-ab0b-431e-adf6-924abc1f5b54",
   "metadata": {},
   "source": [
    "<div>\n",
    "<img src=\"history.png\" width=\"500\"/>\n",
    "</div>"
   ]
  },
  {
   "cell_type": "markdown",
   "id": "9bb04845-9b01-482a-8ddb-02125f661d45",
   "metadata": {},
   "source": [
    "## Machine Learning (ML)/ DL Paradigm"
   ]
  },
  {
   "cell_type": "markdown",
   "id": "698c7d8b-eb46-407f-9387-6d691779e4f8",
   "metadata": {},
   "source": [
    "<div>\n",
    "<img src=\"loop.jpeg\" width=\"500\"/>\n",
    "</div>"
   ]
  },
  {
   "cell_type": "markdown",
   "id": "d0264749-4a2f-4a54-ab8c-b4fa97ad487a",
   "metadata": {},
   "source": [
    "There are three main types of machine learning: supervised learning, unsupervised learning, and reinforcement learning.\n",
    "\n",
    "\n",
    "* In supervised learning, the algorithm is trained on a set of input-output pairs, and the goal is to learn a function that maps inputs to outputs. \n",
    "\n",
    "* In unsupervised learning, the algorithm is trained on a set of input data without any labels, and the goal is to learn the underlying structure or patterns in the data. \n",
    "\n",
    "* In reinforcement learning, the algorithm learns to make decisions by interacting with an environment and receiving feedback in the form of rewards or punishments. \n"
   ]
  },
  {
   "cell_type": "markdown",
   "id": "f5479e70-7e39-49c7-b8f8-b84fea466611",
   "metadata": {},
   "source": [
    "### Domains"
   ]
  },
  {
   "cell_type": "markdown",
   "id": "5680568e-e45a-4803-a322-5f4e287dedec",
   "metadata": {},
   "source": [
    "* Computer Vision: Neural networks are widely used for tasks such as object detection, image segmentation, and image classification. \n",
    "    * Self-driving cars\n",
    "    * Facial recognition\n",
    "    * Medical image analysis\n",
    "* Natural Language Processing (NLP): Neural networks can be used for tasks such as sentiment analysis, language translation, and speech recognition. \n",
    "    * Chatbots\n",
    "    * Virtual assistants\n",
    "    * Language translation services.\n",
    "* Robotics: Neural networks are used in robotics for tasks such as object detection and grasping, path planning, and motion control. \n",
    "    * Industrial automation\n",
    "    * Autonomous drones\n",
    "    * Humanoid robots\n",
    "* Gaming: Neural networks can be used to build intelligent game agents that can learn to play games such as chess, Go, and video games. \n",
    "* Finance: Neural networks can be used for tasks such as fraud detection, risk assessment, and portfolio optimization.\n",
    "    * Fraud detection systems\n",
    "    * Credit scoring models\n",
    "    * Trading algorithms.\n",
    "* Healthcare: Neural networks are used for tasks such as disease diagnosis, drug discovery, and personalized medicine.\n",
    "    * Medical imaging analysis\n",
    "    * Clinical decision support systems \n",
    "    * Drug discovery pipelines\n",
    "* Marketing: Neural networks can be used for tasks such as customer segmentation, recommendation systems, and predictive modeling.\n",
    "    * Targeted advertising\n",
    "    * Customer retention\n",
    "    * Product recommendations"
   ]
  },
  {
   "cell_type": "markdown",
   "id": "a7e56308-e0cc-4f54-b8a4-9f7263df420c",
   "metadata": {},
   "source": [
    "### The Concept of Embeddings"
   ]
  },
  {
   "cell_type": "markdown",
   "id": "86a83548-e6ba-4508-8fb0-f5e4816b4575",
   "metadata": {},
   "source": [
    "Embedding\" is a general term used in machine learning and refers to the process of mapping a high-dimensional, discrete or categorical input into a continuous, low-dimensional vector space (embedding space) where similar inputs are close to each other. In neural networks, embeddings are often learned in an unsupervised manner, meaning that the embedding space is learned from the data itself, without the need for explicit supervision.\n",
    "\n",
    "Embeddings are widely used in natural language processing (NLP) and graph neural networks (GNNs), among other areas. Here are some specific examples:\n",
    "\n",
    "    NLP: In NLP, embeddings are often used to represent words or phrases as vectors in a continuous space, which can capture semantic and syntactic similarities between words. Word embeddings are typically learned by training a neural network to predict a word from its context (i.e., neighboring words), using a technique called Word2Vec. Once learned, these embeddings can be used as input features for downstream NLP tasks, such as sentiment analysis or named entity recognition.\n",
    "\n",
    "    GNNs: In GNNs, embeddings are used to represent nodes or edges in a graph as vectors in a continuous space, which can capture the structural similarities and relationships between them. Graph embeddings are typically learned by training a neural network to predict the presence or absence of edges between nodes in a graph, using techniques such as graph convolutional networks (GCNs) or graph attention networks (GATs). Once learned, these embeddings can be used as input features for downstream GNN tasks, such as node classification or link prediction.\n",
    "\n",
    "Overall, embeddings are a powerful tool for reducing the dimensionality of high-dimensional inputs and capturing their inherent structure and relationships. They have been used successfully in a wide range of machine learning applications, particularly in NLP and GNNs."
   ]
  },
  {
   "cell_type": "markdown",
   "id": "f2520d82-d134-496c-ac73-785825dbd7c4",
   "metadata": {},
   "source": [
    "## Models/Architectures and Applications"
   ]
  },
  {
   "cell_type": "markdown",
   "id": "673e7df9-b810-4b76-b7e9-d1a0c1c65907",
   "metadata": {},
   "source": [
    "* Convolutional Neural Networks (CNNs): CNNs are a type of neural network that is used for image classification, object detection, and other computer vision tasks. They are designed to process data that has a grid-like structure, such as images, and use convolutional layers to extract features from the input. The input to a CNN is a tensor of shape (width, height, channels), where channels correspond to the color channels of the image (e.g. red, green, blue).\n",
    "\n",
    "<div>\n",
    "<img src=\"cnn.webp\" width=\"500\"/>\n",
    "</div>\n",
    "\n",
    "* Recurrent Neural Networks (RNNs): RNNs are a type of neural network that is used for sequential data, such as time series data or natural language processing. They use recurrent layers to maintain a memory of previous inputs, which allows them to model temporal dependencies in the data. The input to an RNN is a sequence of vectors, where each vector corresponds to a timestep in the sequence.\n",
    "\n",
    "<div>\n",
    "<img src=\"rnn.webp\" width=\"500\"/>\n",
    "</div>\n",
    "\n",
    "* Long Short-Term Memory (LSTM) Networks: LSTMs are a type of RNN that is specifically designed to handle long-term dependencies in the input data. They use a special type of recurrent layer that can selectively remember or forget previous inputs. They have often been used for natural language processing tasks such as language modeling or machine translation.\n",
    "\n",
    "<div>\n",
    "<img src=\"lstm.jpg\" width=\"500\"/>\n",
    "</div>\n",
    "\n",
    "* Generative Adversarial Networks (GANs): GANs are a type of neural network that is used for generative tasks, such as image synthesis and text generation. They consist of two neural networks that are trained in a game-like setting, with one network generating fake data and the other network trying to distinguish between real and fake data.\n",
    "\n",
    "<div>\n",
    "<img src=\"gan.png\" width=\"500\"/>\n",
    "</div>\n",
    "\n",
    "* Autoencoders: Autoencoders are a type of neural network that is used for unsupervised learning and dimensionality reduction. They are designed to encode the input data into a lower-dimensional representation and then decode it back into the original form, with the goal of minimizing the reconstruction error.\n",
    "\n",
    "<div>\n",
    "<img src=\"auto.png\" width=\"500\"/>\n",
    "</div>\n",
    "\n",
    "* Seq2Seq models: Translation tasks/sentiment analysis\n",
    "<div>\n",
    "<img src=\"seq2seq.png\" width=\"500\"/>\n",
    "</div>\n",
    "\n",
    "* Transformers: Transformers are a type of neural network that is used for natural language processing tasks, such as language translation and text summarization. They use self-attention mechanisms to process input sequences and can model long-range dependencies in the data.\n",
    "\n",
    "<div>\n",
    "<img src=\"transformer.png\" width=\"500\"/>\n",
    "</div>\n",
    "\n",
    "* Graph neural networks: Generalization the convolution operator from CNNs, to aggregate information over nodes and edges.\n",
    "\n",
    "<div>\n",
    "<img src=\"mol.png\" width=\"500\"/>\n",
    "</div>\n",
    "\n",
    "* Diffusion Networks: The modern diffusion networks used in deep dream are a type of generative model that leverages the power of the diffusion process to generate images by gradually diffusing noise into the network and mapping it to a target distribution.\n",
    "\n",
    "<div>\n",
    "<img src=\"diff.png\" width=\"500\"/>\n",
    "</div>\n"
   ]
  },
  {
   "cell_type": "markdown",
   "id": "53f018d9-429f-4bd0-b213-23ffe6da40d7",
   "metadata": {},
   "source": [
    "## The Importance of Frameworks"
   ]
  },
  {
   "cell_type": "markdown",
   "id": "ede48d22-3e52-4c0e-bc04-f1fda1ca9724",
   "metadata": {},
   "source": [
    "Deep learning frameworks provide a powerful set of tools for building, training, and deploying deep neural networks, which have shown exceptional performance on a wide range of tasks.\n",
    "* Quick prototyping, easy experimental setup, availability of proven architecture, hyperparameter, data pipelines\n",
    "* High level abstraction of underlying computation, enable possibility of complex models, no need to worry about memory management \n",
    "* Open-source and activily maintained\n",
    "* Hardware-support (GPUs, TPU, ...)\n",
    "* Standardized interface for pretained, state-of-the-art models (see transfer learning)\n",
    "\n",
    "Mostpopular frameworks include (Google-developed Tensorflow or) Facebooks Pytorch"
   ]
  },
  {
   "cell_type": "markdown",
   "id": "b448c00f-c027-4d84-a7dc-dd3d4c085695",
   "metadata": {},
   "source": [
    "## Active Research Areas beyond the Model"
   ]
  },
  {
   "cell_type": "markdown",
   "id": "7a117179-98dc-4f41-a6d5-3110e5fe09c0",
   "metadata": {},
   "source": [
    "1. Optimization techniques: Developing more efficient and effective optimization algorithms to train deep neural networks.\n",
    "\n",
    "2. Interpretability and explainability: Understanding and interpreting the decisions made by deep learning models, and making them more transparent and interpretable.\n",
    "\n",
    "3. Transfer learning: Investigating ways to transfer knowledge from one task or domain to another, allowing deep learning models to be trained with less data and time.\n",
    "\n",
    "4. Adversarial attacks and defenses: Studying how deep learning models can be attacked or fooled, and developing defenses against such attacks.\n",
    "\n",
    "5. Uncertainty estimation: Developing techniques to estimate the uncertainty of deep learning models, which is important for applications such as autonomous driving and medical diagnosis.\n",
    "\n",
    "6. Reinforcement learning: Developing deep learning models that can learn from trial and error, and apply this knowledge to make decisions in complex environments.\n",
    "\n",
    "7. Federated learning: Investigating techniques for training deep learning models on decentralized data, allowing for better privacy and security.\n",
    "\n",
    "8. Hardware and software acceleration: Developing specialized hardware and software for deep learning, to improve performance and efficiency.\n",
    "\n",
    "9. Multi-task learning: Studying ways to train deep learning models to perform multiple tasks simultaneously, improving overall efficiency and accuracy.\n",
    "\n",
    "\n",
    "10. Meta-learning: Developing algorithms that can learn how to learn, enabling more efficient and effective learning on new tasks.\n",
    "\n",
    "12. Continual learning: Investigating techniques for deep learning models to learn continuously over time, without forgetting previous knowledge.\n",
    "\n",
    "13. Domain adaptation: Developing methods for adapting deep learning models trained on one domain to perform well on a different domain.\n",
    "\n",
    "14. Attention mechanisms: Exploring attention-based models that focus on important parts of the input, allowing for better performance on complex tasks.\n",
    "\n",
    "15. Graph neural networks: Developing deep learning models that can operate on graph-structured data, such as social networks or chemical compounds.\n",
    "\n",
    "16. Active learning: Investigating methods for training deep learning models with the most informative data samples, allowing for more efficient use of resources.\n",
    "\n",
    "17. Generative models: Studying deep learning models that can generate new data samples, such as images, audio, or text.\n",
    "\n",
    "18. Few-shot learning: Developing deep learning models that can learn from just a few examples, enabling faster adaptation to new tasks or domains.\n",
    "\n",
    "19. Large-scale deployment: Investigating techniques for deploying deep learning models at scale, in order to serve millions or billions of users with high performance and reliability.\n",
    "\n",
    "20. ...\n"
   ]
  },
  {
   "cell_type": "markdown",
   "id": "e3e1bc02-ea82-4b56-88b5-78a62e463129",
   "metadata": {},
   "source": [
    "## Implementation (Overview)"
   ]
  },
  {
   "cell_type": "markdown",
   "id": "e1d0be23-bccc-458d-8b72-9217375924b1",
   "metadata": {},
   "source": [
    "* Data collection: The first step is to gather the data that will be used to train the machine learning algorithm. \n",
    "\n",
    "* Data preprocessing: The collected data needs to be cleaned, transformed, and prepared for the machine learning algorithm. This step includes tasks such as removing irrelevant or redundant data, handling missing values, and scaling the features.\n",
    "\n",
    "* Model selection: The next step is to select a machine learning model that is appropriate for the task at hand. \n",
    "\n",
    "* Model training: In this step, the selected machine learning model is trained on the preprocessed data. The goal is to find the optimal parameters that minimize the error between the predicted outputs and the actual outputs.\n",
    "\n",
    "* Model evaluation: Once the machine learning model is trained, it needs to be evaluated to measure its performance on new, unseen data. \n",
    "\n",
    "* Model application: Finally, the machine learning model can be deployed in a real-world environment where it can be used to make predictions or decisions.\n"
   ]
  },
  {
   "cell_type": "markdown",
   "id": "83ba97ac-320f-4702-9c67-1d6ae22847ae",
   "metadata": {},
   "source": [
    "## Implementation (Technical level)"
   ]
  },
  {
   "cell_type": "markdown",
   "id": "fc3ab891-8ebc-4e31-8aa6-1a7016521d3d",
   "metadata": {},
   "source": [
    "```python\n",
    "import torch\n",
    "import torch.nn as nn\n",
    "import torch.optim as optim\n",
    "import torchvision.transforms as transforms\n",
    "import torchvision.datasets as datasets\n",
    "\n",
    "# Set random seed for reproducibility\n",
    "torch.manual_seed(0)\n",
    "\n",
    "# Define some parameters\n",
    "batch_size = 32\n",
    "num_workers = 4\n",
    "lr = 0.001\n",
    "num_epochs = 10\n",
    "```\n",
    "\n",
    "```python\n",
    "# Define data transforms\n",
    "data_transforms = transforms.Compose([\n",
    "    transforms.Resize(256),\n",
    "    transforms.CenterCrop(224),\n",
    "    transforms.ToTensor(),\n",
    "    transforms.Normalize(mean=[0.485, 0.456, 0.406], std=[0.229, 0.224, 0.225])\n",
    "])\n",
    "```\n",
    "\n",
    "```python\n",
    "# Load ImageNet dataset\n",
    "train_dataset = datasets.ImageFolder('/path/to/imagenet/train', transform=data_transforms)\n",
    "val_dataset = datasets.ImageFolder('/path/to/imagenet/val', transform=data_transforms)\n",
    "\n",
    "# Create data loaders\n",
    "train_loader = torch.utils.data.DataLoader(train_dataset, batch_size=batch_size, shuffle=True, num_workers=num_workers)\n",
    "val_loader = torch.utils.data.DataLoader(val_dataset, batch_size=batch_size, shuffle=False, num_workers=num_workers)\n",
    "```\n",
    "\n",
    "```python\n",
    "# Load pre-trained ResNet-18 model\n",
    "model = torch.hub.load('pytorch/vision:v0.9.0', 'resnet18', pretrained=True)\n",
    "\n",
    "# Freeze all layers except the final classifier\n",
    "for param in model.parameters():\n",
    "    param.requires_grad = False\n",
    "model.fc.requires_grad = True\n",
    "\n",
    "# Replace final classifier with our own\n",
    "model.fc = nn.Linear(512, 1000)\n",
    "```\n",
    "\n",
    "```python\n",
    "# Define loss function and optimizer\n",
    "criterion = nn.CrossEntropyLoss()\n",
    "optimizer = optim.SGD(model.fc.parameters(), lr=lr, momentum=0.9)\n",
    "```\n",
    "\n",
    "```python\n",
    "# Train model\n",
    "for epoch in range(num_epochs):\n",
    "    train_loss = 0.0\n",
    "    train_acc = 0.0\n",
    "    val_loss = 0.0\n",
    "    val_acc = 0.0\n",
    "\n",
    "    # Train on training set\n",
    "    model.train()\n",
    "    for i, (images, labels) in enumerate(train_loader):\n",
    "        optimizer.zero_grad()\n",
    "        outputs = model(images)\n",
    "        loss = criterion(outputs, labels)\n",
    "        loss.backward()\n",
    "        optimizer.step()\n",
    "\n",
    "        # Compute training accuracy\n",
    "        _, preds = torch.max(outputs, 1)\n",
    "        train_acc += torch.sum(preds == labels.data)\n",
    "        train_loss += loss.item() * images.size(0)\n",
    "\n",
    "    train_loss /= len(train_loader.dataset)\n",
    "    train_acc = train_acc.double() / len(train_loader.dataset)\n",
    "\n",
    "    # Evaluate on validation set\n",
    "    model.eval()\n",
    "    with torch.no_grad():\n",
    "        for i, (images, labels) in enumerate(val_loader):\n",
    "            outputs = model(images)\n",
    "            loss = criterion(outputs, labels)\n",
    "\n",
    "            # Compute validation accuracy\n",
    "            _, preds = torch.max(outputs, 1)\n",
    "            val_acc += torch.sum(preds == labels.data)\n",
    "            val_loss += loss.item() * images.size(0)\n",
    "\n",
    "        val_loss /= len(val_loader.dataset)\n",
    "        val_acc = val_acc.double() / len(val_loader.dataset)\n",
    "\n",
    "    # Print epoch results\n",
    "    print(f'Epoch {epoch+1}/{num_epochs}, Train Loss: {train_loss:.4f}, Train Acc: {train_acc:.4f}, Val Loss: {val_loss:.4f}, Val Acc: {val_acc:.4f}')\n",
    "```"
   ]
  },
  {
   "cell_type": "code",
   "execution_count": null,
   "id": "748c67e7-93ef-4265-8194-8f070bd2c543",
   "metadata": {},
   "outputs": [],
   "source": []
  },
  {
   "cell_type": "code",
   "execution_count": null,
   "id": "212c7409-2b32-42e4-b616-d336b62ef922",
   "metadata": {},
   "outputs": [],
   "source": []
  },
  {
   "cell_type": "code",
   "execution_count": null,
   "id": "dc2253f4-d596-4489-8ef5-b7f9be06d724",
   "metadata": {},
   "outputs": [],
   "source": []
  }
 ],
 "metadata": {
  "kernelspec": {
   "display_name": "workshop-kenya",
   "language": "python",
   "name": "python3"
  },
  "language_info": {
   "codemirror_mode": {
    "name": "ipython",
    "version": 3
   },
   "file_extension": ".py",
   "mimetype": "text/x-python",
   "name": "python",
   "nbconvert_exporter": "python",
   "pygments_lexer": "ipython3",
   "version": "3.10.9"
  },
  "vscode": {
   "interpreter": {
    "hash": "8433775919f4a54bf8556c000e98b1be827f18b232c20adcfa994fd7cb0f93e9"
   }
  }
 },
 "nbformat": 4,
 "nbformat_minor": 5
}
